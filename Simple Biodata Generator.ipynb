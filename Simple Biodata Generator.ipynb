{
 "cells": [
  {
   "cell_type": "code",
   "execution_count": 8,
   "id": "8a71a2e5-011a-49f8-b709-b4d28aeec318",
   "metadata": {},
   "outputs": [
    {
     "name": "stdout",
     "output_type": "stream",
     "text": [
      "=== Simple Biodata Generator ===\n",
      "Name:Angelica Astra\n",
      "Age:22\n",
      "Is Student:False\n",
      "City:Medan\n",
      "Nickname:None\n",
      "Hobbies:['Reading', 'Studying', 'Coding', 'Eating', 'Sleeping']\n",
      "Favorite Colors:('red', 'blue', 'black')\n",
      "Skills:{'MYOB', 'Accurate', 'Pyhton', 'Excel'}\n",
      "\n",
      "Status: Sudah bukan mahasiswa 🚀\n"
     ]
    }
   ],
   "source": [
    "\"\"\"\n",
    "Mini Project: Simple Biodata Generator\n",
    "Author: Angelica Astra\n",
    "Description: Program sederhana untuk menampilkan biodata menggunakan berbagai data types (String, int, float, list, tuple, dict, set, boolean, None).\n",
    "\"\"\"\n",
    "#--- Data Biodata ---\n",
    "name=\"Angelica Astra\"\n",
    "age=\"22\"\n",
    "is_student=False\n",
    "city=\"Medan\"\n",
    "nickname= None #belum ada panggilan khusus\n",
    "\n",
    "#List (hobi bisa bertambah)\n",
    "hobbies=[\"Reading\", \"Studying\", \"Coding\", \"Eating\"]\n",
    "hobbies.append(\"Sleeping\")\n",
    "\n",
    "#Tuple (warna favorit, tidak bisa diubah)\n",
    "color=(\"red\", \"blue\", \"black\")\n",
    "\n",
    "#Set (Skills, tidak bisa di duplikat)\n",
    "skills={\"Pyhton\", \"Excel\", \"Accurate\", \"MYOB\"}\n",
    "\n",
    "#Dictionary (gabungan semua data)\n",
    "biodata={\n",
    "    \"Name\":name,\n",
    "    \"Age\":age,\n",
    "    \"Is Student\":is_student,\n",
    "    \"City\":city,\n",
    "    \"Nickname\": nickname,\n",
    "    \"Hobbies\":hobbies,\n",
    "    \"Favorite Colors\":color,\n",
    "    \"Skills\":skills\n",
    "}\n",
    "        \n",
    "#--- Output Biodata ---\n",
    "print(\"=== Simple Biodata Generator ===\")\n",
    "for key, value in biodata.items():\n",
    "    print(f\"{key}:{value}\")\n",
    "\n",
    "# Extra : cek kondisi mahasiswa\n",
    "if is_student:\n",
    "    print(\"\\nStatus: Masih mahasiswa 🎓\")\n",
    "else:\n",
    "    print(\"\\nStatus: Sudah bukan mahasiswa 🚀\")\n"
   ]
  },
  {
   "cell_type": "code",
   "execution_count": null,
   "id": "3496990c-574f-4517-b7df-bc33968a5712",
   "metadata": {},
   "outputs": [],
   "source": []
  }
 ],
 "metadata": {
  "kernelspec": {
   "display_name": "Python 3 (ipykernel)",
   "language": "python",
   "name": "python3"
  },
  "language_info": {
   "codemirror_mode": {
    "name": "ipython",
    "version": 3
   },
   "file_extension": ".py",
   "mimetype": "text/x-python",
   "name": "python",
   "nbconvert_exporter": "python",
   "pygments_lexer": "ipython3",
   "version": "3.13.5"
  }
 },
 "nbformat": 4,
 "nbformat_minor": 5
}
